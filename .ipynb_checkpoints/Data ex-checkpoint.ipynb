{
 "cells": [
  {
   "cell_type": "markdown",
   "id": "5d9c75bf-3ad7-45fe-8ddc-93075343a676",
   "metadata": {},
   "source": [
    "# 1.Importing Libraries"
   ]
  },
  {
   "cell_type": "code",
   "execution_count": 1,
   "id": "86a9e249-4055-43c7-8132-858e16bfb710",
   "metadata": {},
   "outputs": [],
   "source": [
    "# Library to suppress warnings or deprecation notes \n",
    "import warnings\n",
    "warnings.filterwarnings('ignore')\n",
    "# Libraries to help with reading and manipulating data\n",
    "import seaborn as sns\n",
    "import numpy as np\n",
    "import pandas  as pd\n",
    "import matplotlib.pyplot as plt\n",
    "np.set_printoptions(formatter={'float': '{:g}'.format})"
   ]
  },
  {
   "cell_type": "markdown",
   "id": "3cd94816-8fd7-4602-8ffc-bf1176bec1ea",
   "metadata": {},
   "source": [
    "#  2. Data loading and overview"
   ]
  },
  {
   "cell_type": "code",
   "execution_count": 2,
   "id": "21bcfcda-5b7d-4eed-b7fe-1bf9e68e15a8",
   "metadata": {
    "tags": []
   },
   "outputs": [],
   "source": [
    "df_ins = pd.read_csv('Car_Insurance_Claim.csv')"
   ]
  },
  {
   "cell_type": "code",
   "execution_count": 3,
   "id": "4984168e-3936-4f69-b56c-3cb961f01139",
   "metadata": {},
   "outputs": [
    {
     "name": "stdout",
     "output_type": "stream",
     "text": [
      "<class 'pandas.core.frame.DataFrame'>\n",
      "RangeIndex: 10000 entries, 0 to 9999\n",
      "Data columns (total 19 columns):\n",
      " #   Column               Non-Null Count  Dtype  \n",
      "---  ------               --------------  -----  \n",
      " 0   ID                   10000 non-null  int64  \n",
      " 1   AGE                  10000 non-null  object \n",
      " 2   GENDER               10000 non-null  object \n",
      " 3   RACE                 10000 non-null  object \n",
      " 4   DRIVING_EXPERIENCE   10000 non-null  object \n",
      " 5   EDUCATION            10000 non-null  object \n",
      " 6   INCOME               10000 non-null  object \n",
      " 7   CREDIT_SCORE         9018 non-null   float64\n",
      " 8   VEHICLE_OWNERSHIP    10000 non-null  float64\n",
      " 9   VEHICLE_YEAR         10000 non-null  object \n",
      " 10  MARRIED              10000 non-null  float64\n",
      " 11  CHILDREN             10000 non-null  float64\n",
      " 12  POSTAL_CODE          10000 non-null  int64  \n",
      " 13  ANNUAL_MILEAGE       9043 non-null   float64\n",
      " 14  VEHICLE_TYPE         10000 non-null  object \n",
      " 15  SPEEDING_VIOLATIONS  10000 non-null  int64  \n",
      " 16  DUIS                 10000 non-null  int64  \n",
      " 17  PAST_ACCIDENTS       10000 non-null  int64  \n",
      " 18  OUTCOME              10000 non-null  float64\n",
      "dtypes: float64(6), int64(5), object(8)\n",
      "memory usage: 1.4+ MB\n"
     ]
    }
   ],
   "source": [
    "#Check the info of the data set which describes null values, data type, memory usage\n",
    "df_ins.info()"
   ]
  },
  {
   "cell_type": "code",
   "execution_count": 4,
   "id": "72350161-13ee-4baa-9614-f1868673561b",
   "metadata": {},
   "outputs": [
    {
     "data": {
      "text/html": [
       "<div>\n",
       "<style scoped>\n",
       "    .dataframe tbody tr th:only-of-type {\n",
       "        vertical-align: middle;\n",
       "    }\n",
       "\n",
       "    .dataframe tbody tr th {\n",
       "        vertical-align: top;\n",
       "    }\n",
       "\n",
       "    .dataframe thead th {\n",
       "        text-align: right;\n",
       "    }\n",
       "</style>\n",
       "<table border=\"1\" class=\"dataframe\">\n",
       "  <thead>\n",
       "    <tr style=\"text-align: right;\">\n",
       "      <th></th>\n",
       "      <th>ID</th>\n",
       "      <th>CREDIT_SCORE</th>\n",
       "      <th>VEHICLE_OWNERSHIP</th>\n",
       "      <th>MARRIED</th>\n",
       "      <th>CHILDREN</th>\n",
       "      <th>POSTAL_CODE</th>\n",
       "      <th>ANNUAL_MILEAGE</th>\n",
       "      <th>SPEEDING_VIOLATIONS</th>\n",
       "      <th>DUIS</th>\n",
       "      <th>PAST_ACCIDENTS</th>\n",
       "      <th>OUTCOME</th>\n",
       "    </tr>\n",
       "  </thead>\n",
       "  <tbody>\n",
       "    <tr>\n",
       "      <th>count</th>\n",
       "      <td>10000.000000</td>\n",
       "      <td>9018.000000</td>\n",
       "      <td>10000.000000</td>\n",
       "      <td>10000.000000</td>\n",
       "      <td>10000.000000</td>\n",
       "      <td>10000.000000</td>\n",
       "      <td>9043.000000</td>\n",
       "      <td>10000.000000</td>\n",
       "      <td>10000.00000</td>\n",
       "      <td>10000.000000</td>\n",
       "      <td>10000.000000</td>\n",
       "    </tr>\n",
       "    <tr>\n",
       "      <th>mean</th>\n",
       "      <td>500521.906800</td>\n",
       "      <td>0.515813</td>\n",
       "      <td>0.697000</td>\n",
       "      <td>0.498200</td>\n",
       "      <td>0.688800</td>\n",
       "      <td>19864.548400</td>\n",
       "      <td>11697.003207</td>\n",
       "      <td>1.482900</td>\n",
       "      <td>0.23920</td>\n",
       "      <td>1.056300</td>\n",
       "      <td>0.313300</td>\n",
       "    </tr>\n",
       "    <tr>\n",
       "      <th>std</th>\n",
       "      <td>290030.768758</td>\n",
       "      <td>0.137688</td>\n",
       "      <td>0.459578</td>\n",
       "      <td>0.500022</td>\n",
       "      <td>0.463008</td>\n",
       "      <td>18915.613855</td>\n",
       "      <td>2818.434528</td>\n",
       "      <td>2.241966</td>\n",
       "      <td>0.55499</td>\n",
       "      <td>1.652454</td>\n",
       "      <td>0.463858</td>\n",
       "    </tr>\n",
       "    <tr>\n",
       "      <th>min</th>\n",
       "      <td>101.000000</td>\n",
       "      <td>0.053358</td>\n",
       "      <td>0.000000</td>\n",
       "      <td>0.000000</td>\n",
       "      <td>0.000000</td>\n",
       "      <td>10238.000000</td>\n",
       "      <td>2000.000000</td>\n",
       "      <td>0.000000</td>\n",
       "      <td>0.00000</td>\n",
       "      <td>0.000000</td>\n",
       "      <td>0.000000</td>\n",
       "    </tr>\n",
       "    <tr>\n",
       "      <th>25%</th>\n",
       "      <td>249638.500000</td>\n",
       "      <td>0.417191</td>\n",
       "      <td>0.000000</td>\n",
       "      <td>0.000000</td>\n",
       "      <td>0.000000</td>\n",
       "      <td>10238.000000</td>\n",
       "      <td>10000.000000</td>\n",
       "      <td>0.000000</td>\n",
       "      <td>0.00000</td>\n",
       "      <td>0.000000</td>\n",
       "      <td>0.000000</td>\n",
       "    </tr>\n",
       "    <tr>\n",
       "      <th>50%</th>\n",
       "      <td>501777.000000</td>\n",
       "      <td>0.525033</td>\n",
       "      <td>1.000000</td>\n",
       "      <td>0.000000</td>\n",
       "      <td>1.000000</td>\n",
       "      <td>10238.000000</td>\n",
       "      <td>12000.000000</td>\n",
       "      <td>0.000000</td>\n",
       "      <td>0.00000</td>\n",
       "      <td>0.000000</td>\n",
       "      <td>0.000000</td>\n",
       "    </tr>\n",
       "    <tr>\n",
       "      <th>75%</th>\n",
       "      <td>753974.500000</td>\n",
       "      <td>0.618312</td>\n",
       "      <td>1.000000</td>\n",
       "      <td>1.000000</td>\n",
       "      <td>1.000000</td>\n",
       "      <td>32765.000000</td>\n",
       "      <td>14000.000000</td>\n",
       "      <td>2.000000</td>\n",
       "      <td>0.00000</td>\n",
       "      <td>2.000000</td>\n",
       "      <td>1.000000</td>\n",
       "    </tr>\n",
       "    <tr>\n",
       "      <th>max</th>\n",
       "      <td>999976.000000</td>\n",
       "      <td>0.960819</td>\n",
       "      <td>1.000000</td>\n",
       "      <td>1.000000</td>\n",
       "      <td>1.000000</td>\n",
       "      <td>92101.000000</td>\n",
       "      <td>22000.000000</td>\n",
       "      <td>22.000000</td>\n",
       "      <td>6.00000</td>\n",
       "      <td>15.000000</td>\n",
       "      <td>1.000000</td>\n",
       "    </tr>\n",
       "  </tbody>\n",
       "</table>\n",
       "</div>"
      ],
      "text/plain": [
       "                  ID  CREDIT_SCORE  VEHICLE_OWNERSHIP       MARRIED  \\\n",
       "count   10000.000000   9018.000000       10000.000000  10000.000000   \n",
       "mean   500521.906800      0.515813           0.697000      0.498200   \n",
       "std    290030.768758      0.137688           0.459578      0.500022   \n",
       "min       101.000000      0.053358           0.000000      0.000000   \n",
       "25%    249638.500000      0.417191           0.000000      0.000000   \n",
       "50%    501777.000000      0.525033           1.000000      0.000000   \n",
       "75%    753974.500000      0.618312           1.000000      1.000000   \n",
       "max    999976.000000      0.960819           1.000000      1.000000   \n",
       "\n",
       "           CHILDREN   POSTAL_CODE  ANNUAL_MILEAGE  SPEEDING_VIOLATIONS  \\\n",
       "count  10000.000000  10000.000000     9043.000000         10000.000000   \n",
       "mean       0.688800  19864.548400    11697.003207             1.482900   \n",
       "std        0.463008  18915.613855     2818.434528             2.241966   \n",
       "min        0.000000  10238.000000     2000.000000             0.000000   \n",
       "25%        0.000000  10238.000000    10000.000000             0.000000   \n",
       "50%        1.000000  10238.000000    12000.000000             0.000000   \n",
       "75%        1.000000  32765.000000    14000.000000             2.000000   \n",
       "max        1.000000  92101.000000    22000.000000            22.000000   \n",
       "\n",
       "              DUIS  PAST_ACCIDENTS       OUTCOME  \n",
       "count  10000.00000    10000.000000  10000.000000  \n",
       "mean       0.23920        1.056300      0.313300  \n",
       "std        0.55499        1.652454      0.463858  \n",
       "min        0.00000        0.000000      0.000000  \n",
       "25%        0.00000        0.000000      0.000000  \n",
       "50%        0.00000        0.000000      0.000000  \n",
       "75%        0.00000        2.000000      1.000000  \n",
       "max        6.00000       15.000000      1.000000  "
      ]
     },
     "execution_count": 4,
     "metadata": {},
     "output_type": "execute_result"
    }
   ],
   "source": [
    "df_ins.describe()"
   ]
  },
  {
   "cell_type": "code",
   "execution_count": 5,
   "id": "0e271175-c073-4a52-a065-1011271579ab",
   "metadata": {},
   "outputs": [
    {
     "name": "stdout",
     "output_type": "stream",
     "text": [
      "Total Row  10000 & Coloumn  19\n"
     ]
    }
   ],
   "source": [
    "# Give number of row and coloums\n",
    "print('Total Row ',df_ins.shape[0],'& Coloumn ', df_ins.shape[1])"
   ]
  },
  {
   "cell_type": "markdown",
   "id": "6db1aab2-79b7-4e39-9d3f-d0f1bdc44096",
   "metadata": {},
   "source": [
    "# 3. Exploratory Data Analysis\n",
    "##### In this segment, we'll engage in fundamental Exploratory Data Analysis to gain an intuitive understanding of the data. We'll examine distributions, correlations, and other characteristics across various columns."
   ]
  },
  {
   "cell_type": "code",
   "execution_count": 6,
   "id": "e62996e3-ddeb-4a11-978b-0146745a02fa",
   "metadata": {},
   "outputs": [
    {
     "name": "stdout",
     "output_type": "stream",
     "text": [
      "0       False\n",
      "1       False\n",
      "2       False\n",
      "3       False\n",
      "4       False\n",
      "        ...  \n",
      "9995    False\n",
      "9996    False\n",
      "9997    False\n",
      "9998    False\n",
      "9999    False\n",
      "Length: 10000, dtype: bool\n"
     ]
    }
   ],
   "source": [
    "# Check for duplicates\n",
    "print(df_ins.duplicated())\n",
    "\n",
    "# Remove duplicates if any\n",
    "df_ins = df_ins.drop_duplicates()"
   ]
  },
  {
   "cell_type": "markdown",
   "id": "d295579e-56e4-442a-ad1e-1f06928efc9a",
   "metadata": {},
   "source": [
    "# 3.1 Missing Data\n",
    "##### Using Seaborn, we can produce a basic heatmap to visually pinpoint areas with missing data. Alternatively, another method to identify missing data is by employing descriptive statistics or pandas functions, such as isnull() and sum(), to highlight the presence of null values in the dataset.!"
   ]
  },
  {
   "cell_type": "markdown",
   "id": "c8cab689-004b-4676-98b4-cbdcdc670843",
   "metadata": {},
   "source": [
    "###### Check for 'NaN' (missing values) totals calculate the percentage of missing values in each column\n",
    "##### Remove rows with missing values"
   ]
  },
  {
   "cell_type": "code",
   "execution_count": 7,
   "id": "c95106da-0f4d-416b-9e7a-da91c4201dce",
   "metadata": {},
   "outputs": [
    {
     "name": "stdout",
     "output_type": "stream",
     "text": [
      "Percentage of missing values in ID: 0.00%\n",
      "Percentage of missing values in AGE: 0.00%\n",
      "Percentage of missing values in GENDER: 0.00%\n",
      "Percentage of missing values in RACE: 0.00%\n",
      "Percentage of missing values in DRIVING_EXPERIENCE: 0.00%\n",
      "Percentage of missing values in EDUCATION: 0.00%\n",
      "Percentage of missing values in INCOME: 0.00%\n",
      "Percentage of missing values in CREDIT_SCORE: 9.82%\n",
      "Percentage of missing values in VEHICLE_OWNERSHIP: 0.00%\n",
      "Percentage of missing values in VEHICLE_YEAR: 0.00%\n",
      "Percentage of missing values in MARRIED: 0.00%\n",
      "Percentage of missing values in CHILDREN: 0.00%\n",
      "Percentage of missing values in POSTAL_CODE: 0.00%\n",
      "Percentage of missing values in ANNUAL_MILEAGE: 9.57%\n",
      "Percentage of missing values in VEHICLE_TYPE: 0.00%\n",
      "Percentage of missing values in SPEEDING_VIOLATIONS: 0.00%\n",
      "Percentage of missing values in DUIS: 0.00%\n",
      "Percentage of missing values in PAST_ACCIDENTS: 0.00%\n",
      "Percentage of missing values in OUTCOME: 0.00%\n"
     ]
    }
   ],
   "source": [
    "# Check for any missing value in columns\n",
    "df_ins.isna().any()\n",
    "# Calculate the percentage of missing values in each column\n",
    "for col in df_ins.columns:\n",
    "    missing_values = df_ins[col].isna().sum()\n",
    "    percentage = (missing_values / len(df_ins)) * 100\n",
    "    print(f\"Percentage of missing values in {col}: {percentage:.2f}%\")"
   ]
  },
  {
   "cell_type": "code",
   "execution_count": 8,
   "id": "b3dc6192-79d8-4ae9-a6c9-e5d4a78545a3",
   "metadata": {},
   "outputs": [
    {
     "data": {
      "text/plain": [
       "CREDIT_SCORE           982\n",
       "ANNUAL_MILEAGE         957\n",
       "ID                       0\n",
       "MARRIED                  0\n",
       "PAST_ACCIDENTS           0\n",
       "DUIS                     0\n",
       "SPEEDING_VIOLATIONS      0\n",
       "VEHICLE_TYPE             0\n",
       "POSTAL_CODE              0\n",
       "CHILDREN                 0\n",
       "VEHICLE_YEAR             0\n",
       "AGE                      0\n",
       "VEHICLE_OWNERSHIP        0\n",
       "INCOME                   0\n",
       "EDUCATION                0\n",
       "DRIVING_EXPERIENCE       0\n",
       "RACE                     0\n",
       "GENDER                   0\n",
       "OUTCOME                  0\n",
       "dtype: int64"
      ]
     },
     "execution_count": 8,
     "metadata": {},
     "output_type": "execute_result"
    }
   ],
   "source": [
    "#missing data\n",
    "df_ins.isnull().sum().sort_values(ascending=False)"
   ]
  },
  {
   "cell_type": "code",
   "execution_count": 9,
   "id": "deb4ab57-3a99-4654-b5db-a776b5084fdb",
   "metadata": {
    "scrolled": true
   },
   "outputs": [
    {
     "name": "stdout",
     "output_type": "stream",
     "text": [
      "Total Row before removing duplicate  10000 & Coloumn  19\n",
      "Total Row after removing duplicate  8149 & Coloumn  19\n"
     ]
    }
   ],
   "source": [
    "# Give number of row and coloums\n",
    "print('Total Row before removing duplicate ',df_ins.shape[0],'& Coloumn ', df_ins.shape[1])\n",
    "# Remove rows with missing values\n",
    "df_ins.dropna(inplace=True)\n",
    "# Give number of row and coloums\n",
    "print('Total Row after removing duplicate ',df_ins.shape[0],'& Coloumn ', df_ins.shape[1])"
   ]
  },
  {
   "cell_type": "markdown",
   "id": "8f82dcc3-87c5-4254-abb8-1eaf08027a3c",
   "metadata": {},
   "source": [
    "## Renaming all Column names more user friendly"
   ]
  },
  {
   "cell_type": "code",
   "execution_count": 10,
   "id": "247a7919-d666-4dff-8f7d-aa9d71e5bd87",
   "metadata": {},
   "outputs": [],
   "source": [
    "df_ins.rename(columns={'ID': 'person_id'}, inplace = True)\n",
    "df_ins.rename(columns={'AGE': 'age_range'}, inplace = True)\n",
    "df_ins.rename(columns={'GENDER': 'gender'}, inplace = True)\n",
    "df_ins.rename(columns={'RACE': 'majority_minority'}, inplace = True)\n",
    "df_ins.rename(columns={'DRIVING_EXPERIENCE': 'driving_experience_years'}, inplace = True)\n",
    "df_ins.rename(columns={'EDUCATION': 'education'}, inplace = True)\n",
    "df_ins.rename(columns={'INCOME': 'income'}, inplace = True)\n",
    "df_ins.rename(columns={'CREDIT_SCORE': 'credit_score'}, inplace = True)\n",
    "df_ins.rename(columns={'VEHICLE_OWNERSHIP': 'vehicle_ownership'}, inplace = True)\n",
    "df_ins.rename(columns={'VEHICLE_YEAR': 'vehicle_year_after_2015'}, inplace = True)\n",
    "df_ins.rename(columns={'MARRIED': 'married'}, inplace = True)\n",
    "df_ins.rename(columns={'CHILDREN': 'children'}, inplace = True)\n",
    "df_ins.rename(columns={'POSTAL_CODE': 'postal_code'}, inplace = True)\n",
    "df_ins.rename(columns={'ANNUAL_MILEAGE': 'annual_mileage'}, inplace = True)\n",
    "df_ins.rename(columns={'VEHICLE_TYPE': 'vehicle_type'}, inplace = True)\n",
    "df_ins.rename(columns={'SPEEDING_VIOLATIONS': 'speeding_violations'}, inplace = True)\n",
    "df_ins.rename(columns={'DUIS': 'duis'}, inplace = True)\n",
    "df_ins.rename(columns={'PAST_ACCIDENTS': 'past_accidents'}, inplace = True)\n",
    "df_ins.rename(columns={'OUTCOME': 'outcome'}, inplace = True)"
   ]
  },
  {
   "cell_type": "code",
   "execution_count": 11,
   "id": "a0d07b4a-9531-4db0-aeb3-bd4def7d232e",
   "metadata": {},
   "outputs": [
    {
     "name": "stdout",
     "output_type": "stream",
     "text": [
      "<class 'pandas.core.frame.DataFrame'>\n",
      "Index: 8149 entries, 0 to 9999\n",
      "Data columns (total 19 columns):\n",
      " #   Column                    Non-Null Count  Dtype  \n",
      "---  ------                    --------------  -----  \n",
      " 0   person_id                 8149 non-null   int64  \n",
      " 1   age_range                 8149 non-null   object \n",
      " 2   gender                    8149 non-null   object \n",
      " 3   majority_minority         8149 non-null   object \n",
      " 4   driving_experience_years  8149 non-null   object \n",
      " 5   education                 8149 non-null   object \n",
      " 6   income                    8149 non-null   object \n",
      " 7   credit_score              8149 non-null   float64\n",
      " 8   vehicle_ownership         8149 non-null   float64\n",
      " 9   vehicle_year_after_2015   8149 non-null   object \n",
      " 10  married                   8149 non-null   float64\n",
      " 11  children                  8149 non-null   float64\n",
      " 12  postal_code               8149 non-null   int64  \n",
      " 13  annual_mileage            8149 non-null   float64\n",
      " 14  vehicle_type              8149 non-null   object \n",
      " 15  speeding_violations       8149 non-null   int64  \n",
      " 16  duis                      8149 non-null   int64  \n",
      " 17  past_accidents            8149 non-null   int64  \n",
      " 18  outcome                   8149 non-null   float64\n",
      "dtypes: float64(6), int64(5), object(8)\n",
      "memory usage: 1.2+ MB\n"
     ]
    }
   ],
   "source": [
    "# Check what type of data are in this columns\n",
    "df_ins.info()"
   ]
  },
  {
   "cell_type": "markdown",
   "id": "556fd700-c46f-43fc-a850-8646e65a44ca",
   "metadata": {},
   "source": [
    "## Give values more user friendly names\n",
    "###  (Some work Commented out)"
   ]
  },
  {
   "cell_type": "code",
   "execution_count": 12,
   "id": "0fd24c86-b9bb-447d-8857-e66cd8834a9c",
   "metadata": {},
   "outputs": [],
   "source": [
    "#driving experience years values\n",
    "df_ins.loc[df_ins['driving_experience_years'] ==  '0-9y','driving_experience_years']     = '0-9'\n",
    "df_ins.loc[df_ins['driving_experience_years'] ==  '10-19y','driving_experience_years']   = '10-19'\n",
    "df_ins.loc[df_ins['driving_experience_years'] ==  '20-29y','driving_experience_years']   = '20-29'\n",
    "df_ins.loc[df_ins['driving_experience_years'] ==  '30y+','driving_experience_years']     = '30+'"
   ]
  },
  {
   "cell_type": "code",
   "execution_count": 13,
   "id": "df0d0dd9-a030-4ac5-8014-ebbec450e279",
   "metadata": {},
   "outputs": [],
   "source": [
    "#change \"after 2015\" to \"True\"\n",
    "df_ins.loc[df_ins['vehicle_year_after_2015'] ==  'after 2015','vehicle_year_after_2015']   = 'True'\n",
    "\n",
    "#change \"before 2015\" to \"False\"\n",
    "df_ins.loc[df_ins['vehicle_year_after_2015'] ==  'before 2015','vehicle_year_after_2015']   = 'False'"
   ]
  },
  {
   "cell_type": "code",
   "execution_count": 14,
   "id": "8369738a-7032-4b9b-9137-c03deee3ac37",
   "metadata": {},
   "outputs": [
    {
     "name": "stdout",
     "output_type": "stream",
     "text": [
      "vehicle_year_after_2015 : vehicle_year_after_2015\n",
      "False    5642\n",
      "True     2507\n",
      "Name: count, dtype: int64\n"
     ]
    }
   ],
   "source": [
    "df_ins.head(3)\n",
    "print('vehicle_year_after_2015 :', df_ins.vehicle_year_after_2015.value_counts())\n",
    "\n"
   ]
  },
  {
   "cell_type": "markdown",
   "id": "d5a0dc92-0b09-4ebb-93ac-12dfb692a151",
   "metadata": {},
   "source": [
    "## Changing the datatypes of fields"
   ]
  },
  {
   "cell_type": "code",
   "execution_count": 15,
   "id": "d696fecc-2e91-4973-ae3d-0a60f02c0935",
   "metadata": {},
   "outputs": [],
   "source": [
    "# changing float data type to integer\n",
    "df_ins['children']          = df_ins['children'].astype('int64')\n",
    "df_ins['vehicle_ownership'] = df_ins['vehicle_ownership'].astype('int64')\n",
    "df_ins['married']           = df_ins['married'].astype('int64')\n",
    "df_ins['outcome']           = df_ins['outcome'].astype('int64')\n",
    "df_ins['annual_mileage']    = df_ins['annual_mileage'].astype('int64')\n",
    "\n",
    "#change datatype of field to boolean\n",
    "df_ins['vehicle_year_after_2015'] = df_ins['vehicle_year_after_2015'].astype('bool')\n",
    "\n",
    "\n",
    "#age_range object to Categorical\n",
    "#df_ins['age_range'] = df_ins['age_range'].astype('int64')\n",
    "#driving experience years object -to- category\n",
    "df_ins['driving_experience_years'] = df_ins['driving_experience_years'].astype('category')\n",
    "\n",
    "#df_ins['vehicle_id'] = df_ins['vehicle_id'].astype('int64') "
   ]
  },
  {
   "cell_type": "code",
   "execution_count": 16,
   "id": "68c276af-3c90-408f-b145-96e700546d8f",
   "metadata": {},
   "outputs": [
    {
     "data": {
      "text/plain": [
       "person_id                      int64\n",
       "age_range                     object\n",
       "gender                        object\n",
       "majority_minority             object\n",
       "driving_experience_years    category\n",
       "education                     object\n",
       "income                        object\n",
       "credit_score                 float64\n",
       "vehicle_ownership              int64\n",
       "vehicle_year_after_2015         bool\n",
       "married                        int64\n",
       "children                       int64\n",
       "postal_code                    int64\n",
       "annual_mileage                 int64\n",
       "vehicle_type                  object\n",
       "speeding_violations            int64\n",
       "duis                           int64\n",
       "past_accidents                 int64\n",
       "outcome                        int64\n",
       "dtype: object"
      ]
     },
     "execution_count": 16,
     "metadata": {},
     "output_type": "execute_result"
    }
   ],
   "source": [
    "df_ins.dtypes"
   ]
  },
  {
   "cell_type": "code",
   "execution_count": 17,
   "id": "6059e601-29e2-4f2b-bfca-ebdc167e5a07",
   "metadata": {},
   "outputs": [
    {
     "data": {
      "text/html": [
       "<div>\n",
       "<style scoped>\n",
       "    .dataframe tbody tr th:only-of-type {\n",
       "        vertical-align: middle;\n",
       "    }\n",
       "\n",
       "    .dataframe tbody tr th {\n",
       "        vertical-align: top;\n",
       "    }\n",
       "\n",
       "    .dataframe thead th {\n",
       "        text-align: right;\n",
       "    }\n",
       "</style>\n",
       "<table border=\"1\" class=\"dataframe\">\n",
       "  <thead>\n",
       "    <tr style=\"text-align: right;\">\n",
       "      <th></th>\n",
       "      <th>person_id</th>\n",
       "      <th>age_range</th>\n",
       "      <th>gender</th>\n",
       "      <th>majority_minority</th>\n",
       "      <th>driving_experience_years</th>\n",
       "      <th>education</th>\n",
       "      <th>income</th>\n",
       "      <th>credit_score</th>\n",
       "      <th>vehicle_ownership</th>\n",
       "      <th>vehicle_year_after_2015</th>\n",
       "      <th>married</th>\n",
       "      <th>children</th>\n",
       "      <th>postal_code</th>\n",
       "      <th>annual_mileage</th>\n",
       "      <th>vehicle_type</th>\n",
       "      <th>speeding_violations</th>\n",
       "      <th>duis</th>\n",
       "      <th>past_accidents</th>\n",
       "      <th>outcome</th>\n",
       "    </tr>\n",
       "  </thead>\n",
       "  <tbody>\n",
       "    <tr>\n",
       "      <th>0</th>\n",
       "      <td>569520</td>\n",
       "      <td>65+</td>\n",
       "      <td>female</td>\n",
       "      <td>majority</td>\n",
       "      <td>0-9</td>\n",
       "      <td>high school</td>\n",
       "      <td>upper class</td>\n",
       "      <td>0.629027</td>\n",
       "      <td>1</td>\n",
       "      <td>True</td>\n",
       "      <td>0</td>\n",
       "      <td>1</td>\n",
       "      <td>10238</td>\n",
       "      <td>12000</td>\n",
       "      <td>sedan</td>\n",
       "      <td>0</td>\n",
       "      <td>0</td>\n",
       "      <td>0</td>\n",
       "      <td>0</td>\n",
       "    </tr>\n",
       "    <tr>\n",
       "      <th>1</th>\n",
       "      <td>750365</td>\n",
       "      <td>16-25</td>\n",
       "      <td>male</td>\n",
       "      <td>majority</td>\n",
       "      <td>0-9</td>\n",
       "      <td>none</td>\n",
       "      <td>poverty</td>\n",
       "      <td>0.357757</td>\n",
       "      <td>0</td>\n",
       "      <td>True</td>\n",
       "      <td>0</td>\n",
       "      <td>0</td>\n",
       "      <td>10238</td>\n",
       "      <td>16000</td>\n",
       "      <td>sedan</td>\n",
       "      <td>0</td>\n",
       "      <td>0</td>\n",
       "      <td>0</td>\n",
       "      <td>1</td>\n",
       "    </tr>\n",
       "    <tr>\n",
       "      <th>2</th>\n",
       "      <td>199901</td>\n",
       "      <td>16-25</td>\n",
       "      <td>female</td>\n",
       "      <td>majority</td>\n",
       "      <td>0-9</td>\n",
       "      <td>high school</td>\n",
       "      <td>working class</td>\n",
       "      <td>0.493146</td>\n",
       "      <td>1</td>\n",
       "      <td>True</td>\n",
       "      <td>0</td>\n",
       "      <td>0</td>\n",
       "      <td>10238</td>\n",
       "      <td>11000</td>\n",
       "      <td>sedan</td>\n",
       "      <td>0</td>\n",
       "      <td>0</td>\n",
       "      <td>0</td>\n",
       "      <td>0</td>\n",
       "    </tr>\n",
       "    <tr>\n",
       "      <th>3</th>\n",
       "      <td>478866</td>\n",
       "      <td>16-25</td>\n",
       "      <td>male</td>\n",
       "      <td>majority</td>\n",
       "      <td>0-9</td>\n",
       "      <td>university</td>\n",
       "      <td>working class</td>\n",
       "      <td>0.206013</td>\n",
       "      <td>1</td>\n",
       "      <td>True</td>\n",
       "      <td>0</td>\n",
       "      <td>1</td>\n",
       "      <td>32765</td>\n",
       "      <td>11000</td>\n",
       "      <td>sedan</td>\n",
       "      <td>0</td>\n",
       "      <td>0</td>\n",
       "      <td>0</td>\n",
       "      <td>0</td>\n",
       "    </tr>\n",
       "    <tr>\n",
       "      <th>4</th>\n",
       "      <td>731664</td>\n",
       "      <td>26-39</td>\n",
       "      <td>male</td>\n",
       "      <td>majority</td>\n",
       "      <td>10-19</td>\n",
       "      <td>none</td>\n",
       "      <td>working class</td>\n",
       "      <td>0.388366</td>\n",
       "      <td>1</td>\n",
       "      <td>True</td>\n",
       "      <td>0</td>\n",
       "      <td>0</td>\n",
       "      <td>32765</td>\n",
       "      <td>12000</td>\n",
       "      <td>sedan</td>\n",
       "      <td>2</td>\n",
       "      <td>0</td>\n",
       "      <td>1</td>\n",
       "      <td>1</td>\n",
       "    </tr>\n",
       "  </tbody>\n",
       "</table>\n",
       "</div>"
      ],
      "text/plain": [
       "   person_id age_range  gender majority_minority driving_experience_years  \\\n",
       "0     569520       65+  female          majority                      0-9   \n",
       "1     750365     16-25    male          majority                      0-9   \n",
       "2     199901     16-25  female          majority                      0-9   \n",
       "3     478866     16-25    male          majority                      0-9   \n",
       "4     731664     26-39    male          majority                    10-19   \n",
       "\n",
       "     education         income  credit_score  vehicle_ownership  \\\n",
       "0  high school    upper class      0.629027                  1   \n",
       "1         none        poverty      0.357757                  0   \n",
       "2  high school  working class      0.493146                  1   \n",
       "3   university  working class      0.206013                  1   \n",
       "4         none  working class      0.388366                  1   \n",
       "\n",
       "   vehicle_year_after_2015  married  children  postal_code  annual_mileage  \\\n",
       "0                     True        0         1        10238           12000   \n",
       "1                     True        0         0        10238           16000   \n",
       "2                     True        0         0        10238           11000   \n",
       "3                     True        0         1        32765           11000   \n",
       "4                     True        0         0        32765           12000   \n",
       "\n",
       "  vehicle_type  speeding_violations  duis  past_accidents  outcome  \n",
       "0        sedan                    0     0               0        0  \n",
       "1        sedan                    0     0               0        1  \n",
       "2        sedan                    0     0               0        0  \n",
       "3        sedan                    0     0               0        0  \n",
       "4        sedan                    2     0               1        1  "
      ]
     },
     "execution_count": 17,
     "metadata": {},
     "output_type": "execute_result"
    }
   ],
   "source": [
    "#df_ins['person_id'] = df_ins.loc[:,'vehicle_id']\n",
    "\n",
    "df_ins.head(5)"
   ]
  },
  {
   "cell_type": "code",
   "execution_count": 18,
   "id": "876cfaeb-be71-4344-bdf2-107a124dc86b",
   "metadata": {},
   "outputs": [
    {
     "name": "stdout",
     "output_type": "stream",
     "text": [
      "<class 'pandas.core.frame.DataFrame'>\n",
      "Index: 8149 entries, 0 to 9999\n",
      "Data columns (total 19 columns):\n",
      " #   Column                    Non-Null Count  Dtype   \n",
      "---  ------                    --------------  -----   \n",
      " 0   person_id                 8149 non-null   int64   \n",
      " 1   age_range                 8149 non-null   object  \n",
      " 2   gender                    8149 non-null   object  \n",
      " 3   majority_minority         8149 non-null   object  \n",
      " 4   driving_experience_years  8149 non-null   category\n",
      " 5   education                 8149 non-null   object  \n",
      " 6   income                    8149 non-null   object  \n",
      " 7   credit_score              8149 non-null   float64 \n",
      " 8   vehicle_ownership         8149 non-null   int64   \n",
      " 9   vehicle_year_after_2015   8149 non-null   bool    \n",
      " 10  married                   8149 non-null   int64   \n",
      " 11  children                  8149 non-null   int64   \n",
      " 12  postal_code               8149 non-null   int64   \n",
      " 13  annual_mileage            8149 non-null   int64   \n",
      " 14  vehicle_type              8149 non-null   object  \n",
      " 15  speeding_violations       8149 non-null   int64   \n",
      " 16  duis                      8149 non-null   int64   \n",
      " 17  past_accidents            8149 non-null   int64   \n",
      " 18  outcome                   8149 non-null   int64   \n",
      "dtypes: bool(1), category(1), float64(1), int64(10), object(6)\n",
      "memory usage: 1.1+ MB\n"
     ]
    }
   ],
   "source": [
    "df_ins.info()"
   ]
  },
  {
   "cell_type": "code",
   "execution_count": 19,
   "id": "389eb8d6-39bb-4122-8d01-81a0ce35c966",
   "metadata": {},
   "outputs": [
    {
     "data": {
      "text/html": [
       "<div>\n",
       "<style scoped>\n",
       "    .dataframe tbody tr th:only-of-type {\n",
       "        vertical-align: middle;\n",
       "    }\n",
       "\n",
       "    .dataframe tbody tr th {\n",
       "        vertical-align: top;\n",
       "    }\n",
       "\n",
       "    .dataframe thead th {\n",
       "        text-align: right;\n",
       "    }\n",
       "</style>\n",
       "<table border=\"1\" class=\"dataframe\">\n",
       "  <thead>\n",
       "    <tr style=\"text-align: right;\">\n",
       "      <th></th>\n",
       "      <th>person_id</th>\n",
       "      <th>age_range</th>\n",
       "      <th>gender</th>\n",
       "      <th>majority_minority</th>\n",
       "      <th>driving_experience_years</th>\n",
       "      <th>education</th>\n",
       "      <th>income</th>\n",
       "      <th>credit_score</th>\n",
       "      <th>vehicle_ownership</th>\n",
       "      <th>vehicle_year_after_2015</th>\n",
       "      <th>married</th>\n",
       "      <th>children</th>\n",
       "      <th>postal_code</th>\n",
       "      <th>annual_mileage</th>\n",
       "      <th>vehicle_type</th>\n",
       "      <th>speeding_violations</th>\n",
       "      <th>duis</th>\n",
       "      <th>past_accidents</th>\n",
       "      <th>outcome</th>\n",
       "    </tr>\n",
       "  </thead>\n",
       "  <tbody>\n",
       "    <tr>\n",
       "      <th>0</th>\n",
       "      <td>569520</td>\n",
       "      <td>65+</td>\n",
       "      <td>female</td>\n",
       "      <td>majority</td>\n",
       "      <td>0-9</td>\n",
       "      <td>high school</td>\n",
       "      <td>upper class</td>\n",
       "      <td>0.629027</td>\n",
       "      <td>1</td>\n",
       "      <td>True</td>\n",
       "      <td>0</td>\n",
       "      <td>1</td>\n",
       "      <td>10238</td>\n",
       "      <td>12000</td>\n",
       "      <td>sedan</td>\n",
       "      <td>0</td>\n",
       "      <td>0</td>\n",
       "      <td>0</td>\n",
       "      <td>0</td>\n",
       "    </tr>\n",
       "    <tr>\n",
       "      <th>1</th>\n",
       "      <td>750365</td>\n",
       "      <td>16-25</td>\n",
       "      <td>male</td>\n",
       "      <td>majority</td>\n",
       "      <td>0-9</td>\n",
       "      <td>none</td>\n",
       "      <td>poverty</td>\n",
       "      <td>0.357757</td>\n",
       "      <td>0</td>\n",
       "      <td>True</td>\n",
       "      <td>0</td>\n",
       "      <td>0</td>\n",
       "      <td>10238</td>\n",
       "      <td>16000</td>\n",
       "      <td>sedan</td>\n",
       "      <td>0</td>\n",
       "      <td>0</td>\n",
       "      <td>0</td>\n",
       "      <td>1</td>\n",
       "    </tr>\n",
       "    <tr>\n",
       "      <th>2</th>\n",
       "      <td>199901</td>\n",
       "      <td>16-25</td>\n",
       "      <td>female</td>\n",
       "      <td>majority</td>\n",
       "      <td>0-9</td>\n",
       "      <td>high school</td>\n",
       "      <td>working class</td>\n",
       "      <td>0.493146</td>\n",
       "      <td>1</td>\n",
       "      <td>True</td>\n",
       "      <td>0</td>\n",
       "      <td>0</td>\n",
       "      <td>10238</td>\n",
       "      <td>11000</td>\n",
       "      <td>sedan</td>\n",
       "      <td>0</td>\n",
       "      <td>0</td>\n",
       "      <td>0</td>\n",
       "      <td>0</td>\n",
       "    </tr>\n",
       "    <tr>\n",
       "      <th>3</th>\n",
       "      <td>478866</td>\n",
       "      <td>16-25</td>\n",
       "      <td>male</td>\n",
       "      <td>majority</td>\n",
       "      <td>0-9</td>\n",
       "      <td>university</td>\n",
       "      <td>working class</td>\n",
       "      <td>0.206013</td>\n",
       "      <td>1</td>\n",
       "      <td>True</td>\n",
       "      <td>0</td>\n",
       "      <td>1</td>\n",
       "      <td>32765</td>\n",
       "      <td>11000</td>\n",
       "      <td>sedan</td>\n",
       "      <td>0</td>\n",
       "      <td>0</td>\n",
       "      <td>0</td>\n",
       "      <td>0</td>\n",
       "    </tr>\n",
       "    <tr>\n",
       "      <th>4</th>\n",
       "      <td>731664</td>\n",
       "      <td>26-39</td>\n",
       "      <td>male</td>\n",
       "      <td>majority</td>\n",
       "      <td>10-19</td>\n",
       "      <td>none</td>\n",
       "      <td>working class</td>\n",
       "      <td>0.388366</td>\n",
       "      <td>1</td>\n",
       "      <td>True</td>\n",
       "      <td>0</td>\n",
       "      <td>0</td>\n",
       "      <td>32765</td>\n",
       "      <td>12000</td>\n",
       "      <td>sedan</td>\n",
       "      <td>2</td>\n",
       "      <td>0</td>\n",
       "      <td>1</td>\n",
       "      <td>1</td>\n",
       "    </tr>\n",
       "  </tbody>\n",
       "</table>\n",
       "</div>"
      ],
      "text/plain": [
       "   person_id age_range  gender majority_minority driving_experience_years  \\\n",
       "0     569520       65+  female          majority                      0-9   \n",
       "1     750365     16-25    male          majority                      0-9   \n",
       "2     199901     16-25  female          majority                      0-9   \n",
       "3     478866     16-25    male          majority                      0-9   \n",
       "4     731664     26-39    male          majority                    10-19   \n",
       "\n",
       "     education         income  credit_score  vehicle_ownership  \\\n",
       "0  high school    upper class      0.629027                  1   \n",
       "1         none        poverty      0.357757                  0   \n",
       "2  high school  working class      0.493146                  1   \n",
       "3   university  working class      0.206013                  1   \n",
       "4         none  working class      0.388366                  1   \n",
       "\n",
       "   vehicle_year_after_2015  married  children  postal_code  annual_mileage  \\\n",
       "0                     True        0         1        10238           12000   \n",
       "1                     True        0         0        10238           16000   \n",
       "2                     True        0         0        10238           11000   \n",
       "3                     True        0         1        32765           11000   \n",
       "4                     True        0         0        32765           12000   \n",
       "\n",
       "  vehicle_type  speeding_violations  duis  past_accidents  outcome  \n",
       "0        sedan                    0     0               0        0  \n",
       "1        sedan                    0     0               0        1  \n",
       "2        sedan                    0     0               0        0  \n",
       "3        sedan                    0     0               0        0  \n",
       "4        sedan                    2     0               1        1  "
      ]
     },
     "execution_count": 19,
     "metadata": {},
     "output_type": "execute_result"
    }
   ],
   "source": [
    "df_ins.head(5)"
   ]
  },
  {
   "cell_type": "markdown",
   "id": "de02ff6b-04be-4ff3-9451-5fb126dc7fe4",
   "metadata": {},
   "source": [
    "### Details of each column and data type"
   ]
  },
  {
   "cell_type": "code",
   "execution_count": 20,
   "id": "b3d8c736-fddb-4430-b03b-284a9d9bec34",
   "metadata": {},
   "outputs": [
    {
     "name": "stdout",
     "output_type": "stream",
     "text": [
      "<class 'pandas.core.frame.DataFrame'>\n",
      "Index: 8149 entries, 0 to 9999\n",
      "Data columns (total 19 columns):\n",
      " #   Column                    Non-Null Count  Dtype   \n",
      "---  ------                    --------------  -----   \n",
      " 0   person_id                 8149 non-null   int64   \n",
      " 1   age_range                 8149 non-null   object  \n",
      " 2   gender                    8149 non-null   object  \n",
      " 3   majority_minority         8149 non-null   object  \n",
      " 4   driving_experience_years  8149 non-null   category\n",
      " 5   education                 8149 non-null   object  \n",
      " 6   income                    8149 non-null   object  \n",
      " 7   credit_score              8149 non-null   float64 \n",
      " 8   vehicle_ownership         8149 non-null   int64   \n",
      " 9   vehicle_year_after_2015   8149 non-null   bool    \n",
      " 10  married                   8149 non-null   int64   \n",
      " 11  children                  8149 non-null   int64   \n",
      " 12  postal_code               8149 non-null   int64   \n",
      " 13  annual_mileage            8149 non-null   int64   \n",
      " 14  vehicle_type              8149 non-null   object  \n",
      " 15  speeding_violations       8149 non-null   int64   \n",
      " 16  duis                      8149 non-null   int64   \n",
      " 17  past_accidents            8149 non-null   int64   \n",
      " 18  outcome                   8149 non-null   int64   \n",
      "dtypes: bool(1), category(1), float64(1), int64(10), object(6)\n",
      "memory usage: 1.1+ MB\n"
     ]
    }
   ],
   "source": [
    "df_ins.info()"
   ]
  },
  {
   "cell_type": "code",
   "execution_count": 21,
   "id": "1ce152d7-ff22-48d6-bc36-ade54ff6f76f",
   "metadata": {},
   "outputs": [
    {
     "data": {
      "text/plain": [
       "person_id                      int64\n",
       "age_range                     object\n",
       "gender                        object\n",
       "majority_minority             object\n",
       "driving_experience_years    category\n",
       "education                     object\n",
       "income                        object\n",
       "credit_score                 float64\n",
       "vehicle_ownership              int64\n",
       "vehicle_year_after_2015         bool\n",
       "married                        int64\n",
       "children                       int64\n",
       "postal_code                    int64\n",
       "annual_mileage                 int64\n",
       "vehicle_type                  object\n",
       "speeding_violations            int64\n",
       "duis                           int64\n",
       "past_accidents                 int64\n",
       "outcome                        int64\n",
       "dtype: object"
      ]
     },
     "execution_count": 21,
     "metadata": {},
     "output_type": "execute_result"
    }
   ],
   "source": [
    "#df_ins.info()\n",
    "df_ins.dtypes"
   ]
  },
  {
   "cell_type": "code",
   "execution_count": 22,
   "id": "83fa82a2-5f9e-47f7-a320-feb88e1f5e40",
   "metadata": {},
   "outputs": [
    {
     "data": {
      "text/plain": [
       "Index(['person_id', 'age_range', 'gender', 'majority_minority',\n",
       "       'driving_experience_years', 'education', 'income', 'credit_score',\n",
       "       'vehicle_ownership', 'vehicle_year_after_2015', 'married', 'children',\n",
       "       'postal_code', 'annual_mileage', 'vehicle_type', 'speeding_violations',\n",
       "       'duis', 'past_accidents', 'outcome'],\n",
       "      dtype='object')"
      ]
     },
     "execution_count": 22,
     "metadata": {},
     "output_type": "execute_result"
    }
   ],
   "source": [
    "df_ins.columns"
   ]
  },
  {
   "cell_type": "markdown",
   "id": "4410954f-1075-4a75-bff3-9f50f89f29fa",
   "metadata": {},
   "source": [
    "### 3.2 Data Exploration"
   ]
  },
  {
   "cell_type": "code",
   "execution_count": 23,
   "id": "664fbe67-3ffc-42a4-8d9d-a412701fc3a7",
   "metadata": {},
   "outputs": [
    {
     "data": {
      "text/plain": [
       "['0-9', '10-19', '20-29', '30+']\n",
       "Categories (4, object): ['0-9', '10-19', '20-29', '30+']"
      ]
     },
     "execution_count": 23,
     "metadata": {},
     "output_type": "execute_result"
    }
   ],
   "source": [
    "df_ins['driving_experience_years'].unique() "
   ]
  },
  {
   "cell_type": "code",
   "execution_count": 24,
   "id": "f912ebcd-a7e8-46a6-a870-0778e4c688ec",
   "metadata": {},
   "outputs": [
    {
     "name": "stdout",
     "output_type": "stream",
     "text": [
      " Sum of married : married\n",
      "1    4083\n",
      "0    4066\n",
      "Name: count, dtype: int64\n",
      " Sum of outcome : outcome\n",
      "0    5613\n",
      "1    2536\n",
      "Name: count, dtype: int64\n",
      " Sum of Age group : age_range\n",
      "26-39    2475\n",
      "40-64    2412\n",
      "65+      1641\n",
      "16-25    1621\n",
      "Name: count, dtype: int64\n",
      " Sum of driving  : driving_experience_years\n",
      "0-9      2864\n",
      "10-19    2662\n",
      "20-29    1756\n",
      "30+       867\n",
      "Name: count, dtype: int64\n",
      " Sum of Gender  : gender\n",
      "female    4084\n",
      "male      4065\n",
      "Name: count, dtype: int64\n",
      " Outcome  : outcome\n",
      "0    5613\n",
      "1    2536\n",
      "Name: count, dtype: int64\n",
      "vehicle_ownership : vehicle_ownership\n",
      "1    5698\n",
      "0    2451\n",
      "Name: count, dtype: int64\n",
      "vehicle_year_after_2015 : vehicle_year_after_2015\n",
      "True    8149\n",
      "Name: count, dtype: int64\n"
     ]
    }
   ],
   "source": [
    "# Check for number of major_minority  in data set\n",
    "print(' Sum of married :', df_ins.married.value_counts())\n",
    "\n",
    "# Check for number of loan claimed  in data set\n",
    "print(' Sum of outcome :', df_ins.outcome.value_counts())\n",
    "\n",
    "#Check for number customer in each age group \n",
    "print(' Sum of Age group :', df_ins.age_range.value_counts())\n",
    "\n",
    "#\n",
    "print(' Sum of driving  :', df_ins.driving_experience_years.value_counts())\n",
    "# Gender\n",
    "print(' Sum of Gender  :', df_ins.gender.value_counts())\n",
    "\n",
    "# OUTCOME\n",
    "print(' Outcome  :', df_ins.outcome.value_counts())\n",
    "\n",
    "# Vehicle ownership\n",
    "print('vehicle_ownership :', df_ins.vehicle_ownership.value_counts())\n",
    "\n",
    "print('vehicle_year_after_2015 :', df_ins.vehicle_year_after_2015.value_counts())\n"
   ]
  },
  {
   "cell_type": "code",
   "execution_count": 25,
   "id": "aab04b48-b61c-44e8-9c3c-5695d1564260",
   "metadata": {},
   "outputs": [
    {
     "name": "stdout",
     "output_type": "stream",
     "text": [
      "Percentage of people who apply for a loan: 31.12%\n",
      "Percentage of people who did not apply for a loan: 68.88%\n"
     ]
    }
   ],
   "source": [
    "dont_claim_loan = len(df_ins[df_ins.outcome  == 1]) # Total number person claim loan\n",
    "claim_loan      = len(df_ins[df_ins.outcome  == 0])  #  Total number person not claim loan\n",
    "\n",
    "print(\"Percentage of people who apply for a loan: {:.2f}%\".format((dont_claim_loan / (len(df_ins.outcome))*100)))\n",
    "print(\"Percentage of people who did not apply for a loan: {:.2f}%\".format((claim_loan / (len(df_ins.outcome))*100)))\n"
   ]
  },
  {
   "cell_type": "code",
   "execution_count": 26,
   "id": "273d8dd5-bd11-4d6e-9ab7-368b0eb2fc26",
   "metadata": {},
   "outputs": [
    {
     "data": {
      "text/html": [
       "<div>\n",
       "<style scoped>\n",
       "    .dataframe tbody tr th:only-of-type {\n",
       "        vertical-align: middle;\n",
       "    }\n",
       "\n",
       "    .dataframe tbody tr th {\n",
       "        vertical-align: top;\n",
       "    }\n",
       "\n",
       "    .dataframe thead th {\n",
       "        text-align: right;\n",
       "    }\n",
       "</style>\n",
       "<table border=\"1\" class=\"dataframe\">\n",
       "  <thead>\n",
       "    <tr style=\"text-align: right;\">\n",
       "      <th></th>\n",
       "      <th>person_id</th>\n",
       "      <th>age_range</th>\n",
       "      <th>gender</th>\n",
       "      <th>majority_minority</th>\n",
       "      <th>driving_experience_years</th>\n",
       "      <th>education</th>\n",
       "      <th>income</th>\n",
       "      <th>credit_score</th>\n",
       "      <th>vehicle_ownership</th>\n",
       "      <th>vehicle_year_after_2015</th>\n",
       "      <th>married</th>\n",
       "      <th>children</th>\n",
       "      <th>postal_code</th>\n",
       "      <th>annual_mileage</th>\n",
       "      <th>vehicle_type</th>\n",
       "      <th>speeding_violations</th>\n",
       "      <th>duis</th>\n",
       "      <th>past_accidents</th>\n",
       "      <th>outcome</th>\n",
       "    </tr>\n",
       "  </thead>\n",
       "  <tbody>\n",
       "    <tr>\n",
       "      <th>0</th>\n",
       "      <td>569520</td>\n",
       "      <td>65+</td>\n",
       "      <td>female</td>\n",
       "      <td>majority</td>\n",
       "      <td>0-9</td>\n",
       "      <td>high school</td>\n",
       "      <td>upper class</td>\n",
       "      <td>0.629027</td>\n",
       "      <td>1</td>\n",
       "      <td>True</td>\n",
       "      <td>0</td>\n",
       "      <td>1</td>\n",
       "      <td>10238</td>\n",
       "      <td>12000</td>\n",
       "      <td>sedan</td>\n",
       "      <td>0</td>\n",
       "      <td>0</td>\n",
       "      <td>0</td>\n",
       "      <td>0</td>\n",
       "    </tr>\n",
       "    <tr>\n",
       "      <th>1</th>\n",
       "      <td>750365</td>\n",
       "      <td>16-25</td>\n",
       "      <td>male</td>\n",
       "      <td>majority</td>\n",
       "      <td>0-9</td>\n",
       "      <td>none</td>\n",
       "      <td>poverty</td>\n",
       "      <td>0.357757</td>\n",
       "      <td>0</td>\n",
       "      <td>True</td>\n",
       "      <td>0</td>\n",
       "      <td>0</td>\n",
       "      <td>10238</td>\n",
       "      <td>16000</td>\n",
       "      <td>sedan</td>\n",
       "      <td>0</td>\n",
       "      <td>0</td>\n",
       "      <td>0</td>\n",
       "      <td>1</td>\n",
       "    </tr>\n",
       "    <tr>\n",
       "      <th>2</th>\n",
       "      <td>199901</td>\n",
       "      <td>16-25</td>\n",
       "      <td>female</td>\n",
       "      <td>majority</td>\n",
       "      <td>0-9</td>\n",
       "      <td>high school</td>\n",
       "      <td>working class</td>\n",
       "      <td>0.493146</td>\n",
       "      <td>1</td>\n",
       "      <td>True</td>\n",
       "      <td>0</td>\n",
       "      <td>0</td>\n",
       "      <td>10238</td>\n",
       "      <td>11000</td>\n",
       "      <td>sedan</td>\n",
       "      <td>0</td>\n",
       "      <td>0</td>\n",
       "      <td>0</td>\n",
       "      <td>0</td>\n",
       "    </tr>\n",
       "    <tr>\n",
       "      <th>3</th>\n",
       "      <td>478866</td>\n",
       "      <td>16-25</td>\n",
       "      <td>male</td>\n",
       "      <td>majority</td>\n",
       "      <td>0-9</td>\n",
       "      <td>university</td>\n",
       "      <td>working class</td>\n",
       "      <td>0.206013</td>\n",
       "      <td>1</td>\n",
       "      <td>True</td>\n",
       "      <td>0</td>\n",
       "      <td>1</td>\n",
       "      <td>32765</td>\n",
       "      <td>11000</td>\n",
       "      <td>sedan</td>\n",
       "      <td>0</td>\n",
       "      <td>0</td>\n",
       "      <td>0</td>\n",
       "      <td>0</td>\n",
       "    </tr>\n",
       "    <tr>\n",
       "      <th>4</th>\n",
       "      <td>731664</td>\n",
       "      <td>26-39</td>\n",
       "      <td>male</td>\n",
       "      <td>majority</td>\n",
       "      <td>10-19</td>\n",
       "      <td>none</td>\n",
       "      <td>working class</td>\n",
       "      <td>0.388366</td>\n",
       "      <td>1</td>\n",
       "      <td>True</td>\n",
       "      <td>0</td>\n",
       "      <td>0</td>\n",
       "      <td>32765</td>\n",
       "      <td>12000</td>\n",
       "      <td>sedan</td>\n",
       "      <td>2</td>\n",
       "      <td>0</td>\n",
       "      <td>1</td>\n",
       "      <td>1</td>\n",
       "    </tr>\n",
       "  </tbody>\n",
       "</table>\n",
       "</div>"
      ],
      "text/plain": [
       "   person_id age_range  gender majority_minority driving_experience_years  \\\n",
       "0     569520       65+  female          majority                      0-9   \n",
       "1     750365     16-25    male          majority                      0-9   \n",
       "2     199901     16-25  female          majority                      0-9   \n",
       "3     478866     16-25    male          majority                      0-9   \n",
       "4     731664     26-39    male          majority                    10-19   \n",
       "\n",
       "     education         income  credit_score  vehicle_ownership  \\\n",
       "0  high school    upper class      0.629027                  1   \n",
       "1         none        poverty      0.357757                  0   \n",
       "2  high school  working class      0.493146                  1   \n",
       "3   university  working class      0.206013                  1   \n",
       "4         none  working class      0.388366                  1   \n",
       "\n",
       "   vehicle_year_after_2015  married  children  postal_code  annual_mileage  \\\n",
       "0                     True        0         1        10238           12000   \n",
       "1                     True        0         0        10238           16000   \n",
       "2                     True        0         0        10238           11000   \n",
       "3                     True        0         1        32765           11000   \n",
       "4                     True        0         0        32765           12000   \n",
       "\n",
       "  vehicle_type  speeding_violations  duis  past_accidents  outcome  \n",
       "0        sedan                    0     0               0        0  \n",
       "1        sedan                    0     0               0        1  \n",
       "2        sedan                    0     0               0        0  \n",
       "3        sedan                    0     0               0        0  \n",
       "4        sedan                    2     0               1        1  "
      ]
     },
     "execution_count": 26,
     "metadata": {},
     "output_type": "execute_result"
    }
   ],
   "source": [
    "df_ins.head(5)"
   ]
  },
  {
   "cell_type": "code",
   "execution_count": 27,
   "id": "4231c53e-f8a8-435c-b997-289c88e91f36",
   "metadata": {},
   "outputs": [
    {
     "data": {
      "text/plain": [
       "array([ 0,  2,  3,  7,  6,  4, 13,  1,  5, 10,  9,  8, 11, 12, 15, 17, 19,\n",
       "       18, 16, 14, 22], dtype=int64)"
      ]
     },
     "execution_count": 27,
     "metadata": {},
     "output_type": "execute_result"
    }
   ],
   "source": [
    "df_ins['speeding_violations'].unique() \n",
    "#print(' Sum of speeding_violations  :', df_ins.speeding_violations.value_counts())"
   ]
  },
  {
   "cell_type": "markdown",
   "id": "8c07f669-b51a-412a-b8b4-150fa1760f49",
   "metadata": {},
   "source": [
    "###  Data Distribution related to outcome"
   ]
  },
  {
   "cell_type": "code",
   "execution_count": 28,
   "id": "424f17f2-feb3-4788-8d1c-f13d44dc52ca",
   "metadata": {},
   "outputs": [
    {
     "data": {
      "image/png": "[encoded data removed]",
      "text/plain": [
       "<Figure size 600x600 with 1 Axes>"
      ]
     },
     "metadata": {},
     "output_type": "display_data"
    }
   ],
   "source": [
    "def show_outcome_distrib(data):\n",
    "    count = data[\"outcome\"].value_counts() if isinstance(data, pd.DataFrame) else data.value_counts()\n",
    "\n",
    "    count.plot.pie(explode=[0, 0.1], figsize=(6, 6), autopct='%1.1f%%', shadow=True)\n",
    "    plt.ylabel(\"Loan Claimed Vs. Loan not Claimed\")\n",
    "    plt.legend([\"Not Claimed Loan\",\"Clamied\"])\n",
    "    plt.show()\n",
    "\n",
    "\n",
    "# Visualize the proportion of borrowers\n",
    "show_outcome_distrib(df_ins)"
   ]
  },
  {
   "cell_type": "markdown",
   "id": "6e82bd06-29fc-4153-87a0-6efccdb072b0",
   "metadata": {},
   "source": [
    "#### Female Vs. Male data distribution"
   ]
  },
  {
   "cell_type": "code",
   "execution_count": 29,
   "id": "ebab630f-8b03-4491-8ffe-b109e82ed2d6",
   "metadata": {},
   "outputs": [
    {
     "data": {
      "image/png": "[encoded data removed]",
      "text/plain": [
       "<Figure size 600x600 with 1 Axes>"
      ]
     },
     "metadata": {},
     "output_type": "display_data"
    }
   ],
   "source": [
    "# Helper function for data distribution\n",
    "# Visualize the proportion of Outcome\n",
    "def show_gender_distrib(data):\n",
    "    count = data[\"gender\"].value_counts() if isinstance(data, pd.DataFrame) else data.value_counts()\n",
    "\n",
    "    count.plot.pie(explode=[0, 0.1], figsize=(6, 6), autopct='%1.1f%%', shadow=True)\n",
    "    plt.ylabel(\"gender: Female Vs. Male\")\n",
    "    plt.legend([\"Female\",\"Male\"])\n",
    "    plt.show()\n",
    "\n",
    "\n",
    "# Visualize the proportion of borrowers\n",
    "show_gender_distrib(df_ins)"
   ]
  },
  {
   "cell_type": "markdown",
   "id": "22be2a0d-0f84-42e1-9d4c-044aa64255da",
   "metadata": {},
   "source": [
    "#### Martial Status: Married Vs. Single data distribution"
   ]
  },
  {
   "cell_type": "code",
   "execution_count": 30,
   "id": "b720fffe-9a5a-42b5-9fa8-5bf885e5873a",
   "metadata": {},
   "outputs": [
    {
     "data": {
      "image/png": "[encoded data removed]",
      "text/plain": [
       "<Figure size 600x600 with 1 Axes>"
      ]
     },
     "metadata": {},
     "output_type": "display_data"
    }
   ],
   "source": [
    "# Helper function for data distribution\n",
    "def show_married_distrib(data):\n",
    "    count = data[\"married\"].value_counts() if isinstance(data, pd.DataFrame) else data.value_counts()\n",
    "\n",
    "    count.plot.pie(explode=[0, 0.1], figsize=(6, 6), autopct='%1.1f%%', shadow=True)\n",
    "    plt.ylabel(\"Martial Status: Married Vs. Single\")\n",
    "    plt.legend([\"Married\",\"Single\"])\n",
    "    plt.show()\n",
    "\n",
    "\n",
    "# Visualize the proportion of borrowers\n",
    "show_married_distrib(df_ins)"
   ]
  },
  {
   "cell_type": "code",
   "execution_count": 31,
   "id": "65baf13e-7f4c-4d61-970e-6e63166ea313",
   "metadata": {},
   "outputs": [
    {
     "data": {
      "text/plain": [
       "0         65+\n",
       "1       16-25\n",
       "2       16-25\n",
       "3       16-25\n",
       "4       26-39\n",
       "        ...  \n",
       "9994    26-39\n",
       "9995    26-39\n",
       "9997    26-39\n",
       "9998    26-39\n",
       "9999    26-39\n",
       "Name: age_range, Length: 8149, dtype: object"
      ]
     },
     "execution_count": 31,
     "metadata": {},
     "output_type": "execute_result"
    }
   ],
   "source": [
    "df_ins.age_range"
   ]
  },
  {
   "cell_type": "code",
   "execution_count": 32,
   "id": "edbfee30-e52c-4910-912a-9a68e8e07c2c",
   "metadata": {},
   "outputs": [
    {
     "data": {
      "text/plain": [
       "person_id                      int64\n",
       "age_range                     object\n",
       "gender                        object\n",
       "majority_minority             object\n",
       "driving_experience_years    category\n",
       "education                     object\n",
       "income                        object\n",
       "credit_score                 float64\n",
       "vehicle_ownership              int64\n",
       "vehicle_year_after_2015         bool\n",
       "married                        int64\n",
       "children                       int64\n",
       "postal_code                    int64\n",
       "annual_mileage                 int64\n",
       "vehicle_type                  object\n",
       "speeding_violations            int64\n",
       "duis                           int64\n",
       "past_accidents                 int64\n",
       "outcome                        int64\n",
       "dtype: object"
      ]
     },
     "execution_count": 32,
     "metadata": {},
     "output_type": "execute_result"
    }
   ],
   "source": [
    "df_ins.dtypes"
   ]
  },
  {
   "cell_type": "code",
   "execution_count": 33,
   "id": "e3a5b1a9-5a16-45b4-beab-bb22de2a1d95",
   "metadata": {},
   "outputs": [
    {
     "data": {
      "image/png": "[encoded data removed]",
      "text/plain": [
       "<Figure size 500x1000 with 5 Axes>"
      ]
     },
     "metadata": {},
     "output_type": "display_data"
    }
   ],
   "source": [
    "fig,ax = plt.subplots(nrows=5,ncols = 1,figsize=(5,10))\n",
    "plt.subplots_adjust(wspace=0.5,hspace=0.4)\n",
    "i=0\n",
    "for ft in ['majority_minority','gender','age_range','education','income']:\n",
    "    ax[i].plot(df_ins.groupby(ft).credit_score.mean())\n",
    "    ax[i].set_title(f'{ft} v\\s credit_score')\n",
    "    i+=1"
   ]
  },
  {
   "cell_type": "code",
   "execution_count": 34,
   "id": "963d4e7a-fe8b-4652-a22c-b0969b149c26",
   "metadata": {},
   "outputs": [
    {
     "data": {
      "text/plain": [
       "person_id                      int64\n",
       "age_range                     object\n",
       "gender                        object\n",
       "majority_minority             object\n",
       "driving_experience_years    category\n",
       "education                     object\n",
       "income                        object\n",
       "credit_score                 float64\n",
       "vehicle_ownership              int64\n",
       "vehicle_year_after_2015         bool\n",
       "married                        int64\n",
       "children                       int64\n",
       "postal_code                    int64\n",
       "annual_mileage                 int64\n",
       "vehicle_type                  object\n",
       "speeding_violations            int64\n",
       "duis                           int64\n",
       "past_accidents                 int64\n",
       "outcome                        int64\n",
       "dtype: object"
      ]
     },
     "execution_count": 34,
     "metadata": {},
     "output_type": "execute_result"
    }
   ],
   "source": [
    "df_ins.dtypes"
   ]
  },
  {
   "cell_type": "code",
   "execution_count": 35,
   "id": "63d0c0e0-da7f-4cbb-a91e-ec98153ba74c",
   "metadata": {},
   "outputs": [
    {
     "data": {
      "image/png": "[encoded data removed]",
      "text/plain": [
       "<Figure size 640x480 with 1 Axes>"
      ]
     },
     "metadata": {},
     "output_type": "display_data"
    }
   ],
   "source": [
    "df_ins.columns\n",
    "#df_ins.info()\n",
    "sns.boxplot(y='credit_score', data=df_ins)\n",
    "plt.ylabel('credit_score')\n",
    "plt.title('credit_score Distribution')\n",
    "plt.show()"
   ]
  },
  {
   "cell_type": "code",
   "execution_count": 36,
   "id": "8d7ae169-02e4-4ccc-a37b-e386af7e7b87",
   "metadata": {},
   "outputs": [
    {
     "name": "stdout",
     "output_type": "stream",
     "text": [
      "Age Count :  age_range\n",
      "26-39    2475\n",
      "40-64    2412\n",
      "65+      1641\n",
      "16-25    1621\n",
      "Name: count, dtype: int64\n",
      "Count based on age gender and outcome .\n",
      "\n"
     ]
    },
    {
     "data": {
      "text/html": [
       "<div>\n",
       "<style scoped>\n",
       "    .dataframe tbody tr th:only-of-type {\n",
       "        vertical-align: middle;\n",
       "    }\n",
       "\n",
       "    .dataframe tbody tr th {\n",
       "        vertical-align: top;\n",
       "    }\n",
       "\n",
       "    .dataframe thead th {\n",
       "        text-align: right;\n",
       "    }\n",
       "</style>\n",
       "<table border=\"1\" class=\"dataframe\">\n",
       "  <thead>\n",
       "    <tr style=\"text-align: right;\">\n",
       "      <th></th>\n",
       "      <th>outcome</th>\n",
       "      <th>0</th>\n",
       "      <th>1</th>\n",
       "    </tr>\n",
       "    <tr>\n",
       "      <th>age_range</th>\n",
       "      <th>gender</th>\n",
       "      <th></th>\n",
       "      <th></th>\n",
       "    </tr>\n",
       "  </thead>\n",
       "  <tbody>\n",
       "    <tr>\n",
       "      <th rowspan=\"2\" valign=\"top\">16-25</th>\n",
       "      <th>female</th>\n",
       "      <td>291</td>\n",
       "      <td>553</td>\n",
       "    </tr>\n",
       "    <tr>\n",
       "      <th>male</th>\n",
       "      <td>172</td>\n",
       "      <td>605</td>\n",
       "    </tr>\n",
       "    <tr>\n",
       "      <th rowspan=\"2\" valign=\"top\">26-39</th>\n",
       "      <th>female</th>\n",
       "      <td>890</td>\n",
       "      <td>330</td>\n",
       "    </tr>\n",
       "    <tr>\n",
       "      <th>male</th>\n",
       "      <td>750</td>\n",
       "      <td>505</td>\n",
       "    </tr>\n",
       "    <tr>\n",
       "      <th rowspan=\"2\" valign=\"top\">40-64</th>\n",
       "      <th>female</th>\n",
       "      <td>1053</td>\n",
       "      <td>140</td>\n",
       "    </tr>\n",
       "    <tr>\n",
       "      <th>male</th>\n",
       "      <td>981</td>\n",
       "      <td>238</td>\n",
       "    </tr>\n",
       "    <tr>\n",
       "      <th rowspan=\"2\" valign=\"top\">65+</th>\n",
       "      <th>female</th>\n",
       "      <td>765</td>\n",
       "      <td>62</td>\n",
       "    </tr>\n",
       "    <tr>\n",
       "      <th>male</th>\n",
       "      <td>711</td>\n",
       "      <td>103</td>\n",
       "    </tr>\n",
       "  </tbody>\n",
       "</table>\n",
       "</div>"
      ],
      "text/plain": [
       "outcome              0    1\n",
       "age_range gender           \n",
       "16-25     female   291  553\n",
       "          male     172  605\n",
       "26-39     female   890  330\n",
       "          male     750  505\n",
       "40-64     female  1053  140\n",
       "          male     981  238\n",
       "65+       female   765   62\n",
       "          male     711  103"
      ]
     },
     "execution_count": 36,
     "metadata": {},
     "output_type": "execute_result"
    }
   ],
   "source": [
    "print('Age Count : ',df_ins['age_range'].value_counts())\n",
    "grouped_data = df_ins.groupby(['age_range', 'gender', 'outcome'])['outcome'].count().unstack()\n",
    "print('Count based on age gender and outcome .\\n')\n",
    "grouped_data"
   ]
  },
  {
   "cell_type": "code",
   "execution_count": 37,
   "id": "31bafc7f-9315-454d-9eaa-b8268a57b990",
   "metadata": {},
   "outputs": [
    {
     "data": {
      "image/png": "[encoded data removed]",
      "text/plain": [
       "<Figure size 2000x1000 with 1 Axes>"
      ]
     },
     "metadata": {},
     "output_type": "display_data"
    }
   ],
   "source": [
    "plt.figure(figsize=(20,10))\n",
    "plt.title('Age Count')\n",
    "sns.countplot(data=df_ins, x ='age_range',hue='outcome');"
   ]
  },
  {
   "cell_type": "code",
   "execution_count": 38,
   "id": "b1eeb8c0-4db0-4dfe-8d2d-7ddc8c3c5a97",
   "metadata": {},
   "outputs": [
    {
     "data": {
      "image/png": "[encoded data removed]",
      "text/plain": [
       "<Figure size 2000x1000 with 1 Axes>"
      ]
     },
     "metadata": {},
     "output_type": "display_data"
    }
   ],
   "source": [
    "plt.figure(figsize=(20,10))\n",
    "plt.title('gender Count')\n",
    "#sns.countplot(data=df_ins, x ='age_range');\n",
    "sns.countplot(data=df_ins, x='age_range', hue='outcome');\n",
    "\n",
    "#import seaborn as sns\n",
    "\n",
    "#sns.scatterplot(x='x', y='y', hue=['category1', 'category2'], palette=['#007bff', '#ffc107'], data=data)"
   ]
  },
  {
   "cell_type": "code",
   "execution_count": 39,
   "id": "fd8978d0-6265-4ee8-96c6-d08e1fce456b",
   "metadata": {},
   "outputs": [
    {
     "data": {
      "text/html": [
       "<div>\n",
       "<style scoped>\n",
       "    .dataframe tbody tr th:only-of-type {\n",
       "        vertical-align: middle;\n",
       "    }\n",
       "\n",
       "    .dataframe tbody tr th {\n",
       "        vertical-align: top;\n",
       "    }\n",
       "\n",
       "    .dataframe thead th {\n",
       "        text-align: right;\n",
       "    }\n",
       "</style>\n",
       "<table border=\"1\" class=\"dataframe\">\n",
       "  <thead>\n",
       "    <tr style=\"text-align: right;\">\n",
       "      <th></th>\n",
       "      <th>person_id</th>\n",
       "      <th>age_range</th>\n",
       "      <th>gender</th>\n",
       "      <th>majority_minority</th>\n",
       "      <th>driving_experience_years</th>\n",
       "      <th>education</th>\n",
       "      <th>income</th>\n",
       "      <th>credit_score</th>\n",
       "      <th>vehicle_ownership</th>\n",
       "      <th>vehicle_year_after_2015</th>\n",
       "      <th>married</th>\n",
       "      <th>children</th>\n",
       "      <th>postal_code</th>\n",
       "      <th>annual_mileage</th>\n",
       "      <th>vehicle_type</th>\n",
       "      <th>speeding_violations</th>\n",
       "      <th>duis</th>\n",
       "      <th>past_accidents</th>\n",
       "      <th>outcome</th>\n",
       "    </tr>\n",
       "  </thead>\n",
       "  <tbody>\n",
       "    <tr>\n",
       "      <th>0</th>\n",
       "      <td>569520</td>\n",
       "      <td>65+</td>\n",
       "      <td>female</td>\n",
       "      <td>majority</td>\n",
       "      <td>0-9</td>\n",
       "      <td>high school</td>\n",
       "      <td>upper class</td>\n",
       "      <td>0.629027</td>\n",
       "      <td>1</td>\n",
       "      <td>True</td>\n",
       "      <td>0</td>\n",
       "      <td>1</td>\n",
       "      <td>10238</td>\n",
       "      <td>12000</td>\n",
       "      <td>sedan</td>\n",
       "      <td>0</td>\n",
       "      <td>0</td>\n",
       "      <td>0</td>\n",
       "      <td>0</td>\n",
       "    </tr>\n",
       "    <tr>\n",
       "      <th>1</th>\n",
       "      <td>750365</td>\n",
       "      <td>16-25</td>\n",
       "      <td>male</td>\n",
       "      <td>majority</td>\n",
       "      <td>0-9</td>\n",
       "      <td>none</td>\n",
       "      <td>poverty</td>\n",
       "      <td>0.357757</td>\n",
       "      <td>0</td>\n",
       "      <td>True</td>\n",
       "      <td>0</td>\n",
       "      <td>0</td>\n",
       "      <td>10238</td>\n",
       "      <td>16000</td>\n",
       "      <td>sedan</td>\n",
       "      <td>0</td>\n",
       "      <td>0</td>\n",
       "      <td>0</td>\n",
       "      <td>1</td>\n",
       "    </tr>\n",
       "    <tr>\n",
       "      <th>2</th>\n",
       "      <td>199901</td>\n",
       "      <td>16-25</td>\n",
       "      <td>female</td>\n",
       "      <td>majority</td>\n",
       "      <td>0-9</td>\n",
       "      <td>high school</td>\n",
       "      <td>working class</td>\n",
       "      <td>0.493146</td>\n",
       "      <td>1</td>\n",
       "      <td>True</td>\n",
       "      <td>0</td>\n",
       "      <td>0</td>\n",
       "      <td>10238</td>\n",
       "      <td>11000</td>\n",
       "      <td>sedan</td>\n",
       "      <td>0</td>\n",
       "      <td>0</td>\n",
       "      <td>0</td>\n",
       "      <td>0</td>\n",
       "    </tr>\n",
       "    <tr>\n",
       "      <th>3</th>\n",
       "      <td>478866</td>\n",
       "      <td>16-25</td>\n",
       "      <td>male</td>\n",
       "      <td>majority</td>\n",
       "      <td>0-9</td>\n",
       "      <td>university</td>\n",
       "      <td>working class</td>\n",
       "      <td>0.206013</td>\n",
       "      <td>1</td>\n",
       "      <td>True</td>\n",
       "      <td>0</td>\n",
       "      <td>1</td>\n",
       "      <td>32765</td>\n",
       "      <td>11000</td>\n",
       "      <td>sedan</td>\n",
       "      <td>0</td>\n",
       "      <td>0</td>\n",
       "      <td>0</td>\n",
       "      <td>0</td>\n",
       "    </tr>\n",
       "    <tr>\n",
       "      <th>4</th>\n",
       "      <td>731664</td>\n",
       "      <td>26-39</td>\n",
       "      <td>male</td>\n",
       "      <td>majority</td>\n",
       "      <td>10-19</td>\n",
       "      <td>none</td>\n",
       "      <td>working class</td>\n",
       "      <td>0.388366</td>\n",
       "      <td>1</td>\n",
       "      <td>True</td>\n",
       "      <td>0</td>\n",
       "      <td>0</td>\n",
       "      <td>32765</td>\n",
       "      <td>12000</td>\n",
       "      <td>sedan</td>\n",
       "      <td>2</td>\n",
       "      <td>0</td>\n",
       "      <td>1</td>\n",
       "      <td>1</td>\n",
       "    </tr>\n",
       "  </tbody>\n",
       "</table>\n",
       "</div>"
      ],
      "text/plain": [
       "   person_id age_range  gender majority_minority driving_experience_years  \\\n",
       "0     569520       65+  female          majority                      0-9   \n",
       "1     750365     16-25    male          majority                      0-9   \n",
       "2     199901     16-25  female          majority                      0-9   \n",
       "3     478866     16-25    male          majority                      0-9   \n",
       "4     731664     26-39    male          majority                    10-19   \n",
       "\n",
       "     education         income  credit_score  vehicle_ownership  \\\n",
       "0  high school    upper class      0.629027                  1   \n",
       "1         none        poverty      0.357757                  0   \n",
       "2  high school  working class      0.493146                  1   \n",
       "3   university  working class      0.206013                  1   \n",
       "4         none  working class      0.388366                  1   \n",
       "\n",
       "   vehicle_year_after_2015  married  children  postal_code  annual_mileage  \\\n",
       "0                     True        0         1        10238           12000   \n",
       "1                     True        0         0        10238           16000   \n",
       "2                     True        0         0        10238           11000   \n",
       "3                     True        0         1        32765           11000   \n",
       "4                     True        0         0        32765           12000   \n",
       "\n",
       "  vehicle_type  speeding_violations  duis  past_accidents  outcome  \n",
       "0        sedan                    0     0               0        0  \n",
       "1        sedan                    0     0               0        1  \n",
       "2        sedan                    0     0               0        0  \n",
       "3        sedan                    0     0               0        0  \n",
       "4        sedan                    2     0               1        1  "
      ]
     },
     "execution_count": 39,
     "metadata": {},
     "output_type": "execute_result"
    }
   ],
   "source": [
    "df_ins.head(5)"
   ]
  },
  {
   "cell_type": "code",
   "execution_count": 40,
   "id": "2c66fc93-ba71-469d-a3f4-327f7a105e37",
   "metadata": {},
   "outputs": [
    {
     "data": {
      "image/png": "[encoded data removed]",
      "text/plain": [
       "<Figure size 2000x1000 with 1 Axes>"
      ]
     },
     "metadata": {},
     "output_type": "display_data"
    }
   ],
   "source": [
    "plt.figure(figsize=(20,10))\n",
    "plt.title('income Count')\n",
    "sns.countplot(data=df_ins, x ='income',hue='outcome');"
   ]
  },
  {
   "cell_type": "code",
   "execution_count": 41,
   "id": "137fae7a-fa9a-4b7c-8eba-bf771cd71f22",
   "metadata": {},
   "outputs": [
    {
     "data": {
      "image/png": "[encoded data removed]",
      "text/plain": [
       "<Figure size 640x480 with 1 Axes>"
      ]
     },
     "metadata": {},
     "output_type": "display_data"
    }
   ],
   "source": [
    "# Group the data by gender and outcome\n",
    "grouped_data = df_ins.groupby(['gender', 'outcome'])['outcome'].count()\n",
    "\n",
    "# Create a pie chart of the grouped data\n",
    "plt.pie(grouped_data, labels=grouped_data.index, autopct=\"%1.1f%%\")\n",
    "plt.title(\"Pie Chart of gender and outcome\")\n",
    "plt.show()"
   ]
  },
  {
   "cell_type": "code",
   "execution_count": 42,
   "id": "2a317736-1d5c-4c97-bdfd-ce37cc796df1",
   "metadata": {},
   "outputs": [
    {
     "data": {
      "text/html": [
       "<div>\n",
       "<style scoped>\n",
       "    .dataframe tbody tr th:only-of-type {\n",
       "        vertical-align: middle;\n",
       "    }\n",
       "\n",
       "    .dataframe tbody tr th {\n",
       "        vertical-align: top;\n",
       "    }\n",
       "\n",
       "    .dataframe thead th {\n",
       "        text-align: right;\n",
       "    }\n",
       "</style>\n",
       "<table border=\"1\" class=\"dataframe\">\n",
       "  <thead>\n",
       "    <tr style=\"text-align: right;\">\n",
       "      <th></th>\n",
       "      <th>outcome</th>\n",
       "      <th>0</th>\n",
       "      <th>1</th>\n",
       "    </tr>\n",
       "    <tr>\n",
       "      <th>age_range</th>\n",
       "      <th>gender</th>\n",
       "      <th></th>\n",
       "      <th></th>\n",
       "    </tr>\n",
       "  </thead>\n",
       "  <tbody>\n",
       "    <tr>\n",
       "      <th rowspan=\"2\" valign=\"top\">16-25</th>\n",
       "      <th>female</th>\n",
       "      <td>291</td>\n",
       "      <td>553</td>\n",
       "    </tr>\n",
       "    <tr>\n",
       "      <th>male</th>\n",
       "      <td>172</td>\n",
       "      <td>605</td>\n",
       "    </tr>\n",
       "    <tr>\n",
       "      <th rowspan=\"2\" valign=\"top\">26-39</th>\n",
       "      <th>female</th>\n",
       "      <td>890</td>\n",
       "      <td>330</td>\n",
       "    </tr>\n",
       "    <tr>\n",
       "      <th>male</th>\n",
       "      <td>750</td>\n",
       "      <td>505</td>\n",
       "    </tr>\n",
       "    <tr>\n",
       "      <th rowspan=\"2\" valign=\"top\">40-64</th>\n",
       "      <th>female</th>\n",
       "      <td>1053</td>\n",
       "      <td>140</td>\n",
       "    </tr>\n",
       "    <tr>\n",
       "      <th>male</th>\n",
       "      <td>981</td>\n",
       "      <td>238</td>\n",
       "    </tr>\n",
       "    <tr>\n",
       "      <th rowspan=\"2\" valign=\"top\">65+</th>\n",
       "      <th>female</th>\n",
       "      <td>765</td>\n",
       "      <td>62</td>\n",
       "    </tr>\n",
       "    <tr>\n",
       "      <th>male</th>\n",
       "      <td>711</td>\n",
       "      <td>103</td>\n",
       "    </tr>\n",
       "  </tbody>\n",
       "</table>\n",
       "</div>"
      ],
      "text/plain": [
       "outcome              0    1\n",
       "age_range gender           \n",
       "16-25     female   291  553\n",
       "          male     172  605\n",
       "26-39     female   890  330\n",
       "          male     750  505\n",
       "40-64     female  1053  140\n",
       "          male     981  238\n",
       "65+       female   765   62\n",
       "          male     711  103"
      ]
     },
     "execution_count": 42,
     "metadata": {},
     "output_type": "execute_result"
    }
   ],
   "source": [
    "grouped_data = df_ins.groupby(['age_range', 'gender', 'outcome'])['outcome'].count().unstack()\n",
    "grouped_data"
   ]
  },
  {
   "cell_type": "code",
   "execution_count": 43,
   "id": "6c17f9c8-ea64-44f5-9a4a-b07b45a83eb1",
   "metadata": {},
   "outputs": [],
   "source": [
    "#Adding new column for Vehicle_id\n",
    "df_ins['vehicle_id'] = 0\n",
    "\n",
    "# create a new column 'duplicated column'\n",
    "df_ins['vehicle_id'] = df_ins['person_id'].copy()"
   ]
  },
  {
   "cell_type": "code",
   "execution_count": 44,
   "id": "c523d8a4-e247-44d9-b041-6d257a3974fc",
   "metadata": {},
   "outputs": [
    {
     "data": {
      "text/plain": [
       "(8149, 20)"
      ]
     },
     "execution_count": 44,
     "metadata": {},
     "output_type": "execute_result"
    }
   ],
   "source": [
    "df_ins.dropna().shape"
   ]
  },
  {
   "cell_type": "code",
   "execution_count": 45,
   "id": "cc203570-cd48-40c6-928b-8775712c6ce2",
   "metadata": {},
   "outputs": [],
   "source": [
    "customer = df_ins[['person_id', 'vehicle_id', 'age_range', 'gender', 'majority_minority', 'education', 'income', 'married', 'children', 'postal_code'  ]]\n",
    "customer.to_csv('customer.csv', index=False)\n",
    "\n",
    "driver_information = df_ins[['person_id', 'driving_experience_years', 'credit_score', 'vehicle_ownership', 'annual_mileage' ]]\n",
    "driver_information.to_csv('driver_information.csv', index=False)"
   ]
  },
  {
   "cell_type": "code",
   "execution_count": 46,
   "id": "59f86e9d-c532-461c-89d1-2c5060fb5966",
   "metadata": {},
   "outputs": [],
   "source": [
    "driving_history\t= df_ins[['person_id', 'speeding_violations', 'duis', 'past_accidents',  'outcome']]\n",
    "driving_history.to_csv('driving_history.csv', index=False)"
   ]
  },
  {
   "cell_type": "code",
   "execution_count": 47,
   "id": "0bb1479b-bfd1-4182-9ab7-b8cedd457354",
   "metadata": {},
   "outputs": [],
   "source": [
    "vehicle = df_ins [['vehicle_id', 'vehicle_year_after_2015', 'vehicle_type' ]]\n",
    "vehicle.to_csv('vehicle.csv', index=False)"
   ]
  },
  {
   "cell_type": "code",
   "execution_count": 48,
   "id": "0dc03856-5a72-4333-8041-207cf480b9c2",
   "metadata": {},
   "outputs": [
    {
     "data": {
      "text/plain": [
       "person_id                      int64\n",
       "age_range                     object\n",
       "gender                        object\n",
       "majority_minority             object\n",
       "driving_experience_years    category\n",
       "education                     object\n",
       "income                        object\n",
       "credit_score                 float64\n",
       "vehicle_ownership              int64\n",
       "vehicle_year_after_2015         bool\n",
       "married                        int64\n",
       "children                       int64\n",
       "postal_code                    int64\n",
       "annual_mileage                 int64\n",
       "vehicle_type                  object\n",
       "speeding_violations            int64\n",
       "duis                           int64\n",
       "past_accidents                 int64\n",
       "outcome                        int64\n",
       "vehicle_id                     int64\n",
       "dtype: object"
      ]
     },
     "execution_count": 48,
     "metadata": {},
     "output_type": "execute_result"
    }
   ],
   "source": [
    "df_ins.dtypes"
   ]
  },
  {
   "cell_type": "code",
   "execution_count": 49,
   "id": "72abbf37-5dc6-4c72-bfa3-65d5e9e5fcfc",
   "metadata": {},
   "outputs": [
    {
     "data": {
      "text/html": [
       "<div>\n",
       "<style scoped>\n",
       "    .dataframe tbody tr th:only-of-type {\n",
       "        vertical-align: middle;\n",
       "    }\n",
       "\n",
       "    .dataframe tbody tr th {\n",
       "        vertical-align: top;\n",
       "    }\n",
       "\n",
       "    .dataframe thead th {\n",
       "        text-align: right;\n",
       "    }\n",
       "</style>\n",
       "<table border=\"1\" class=\"dataframe\">\n",
       "  <thead>\n",
       "    <tr style=\"text-align: right;\">\n",
       "      <th></th>\n",
       "      <th>person_id</th>\n",
       "      <th>age_range</th>\n",
       "      <th>gender</th>\n",
       "      <th>majority_minority</th>\n",
       "      <th>driving_experience_years</th>\n",
       "      <th>education</th>\n",
       "      <th>income</th>\n",
       "      <th>credit_score</th>\n",
       "      <th>vehicle_ownership</th>\n",
       "      <th>vehicle_year_after_2015</th>\n",
       "      <th>married</th>\n",
       "      <th>children</th>\n",
       "      <th>postal_code</th>\n",
       "      <th>annual_mileage</th>\n",
       "      <th>vehicle_type</th>\n",
       "      <th>speeding_violations</th>\n",
       "      <th>duis</th>\n",
       "      <th>past_accidents</th>\n",
       "      <th>outcome</th>\n",
       "      <th>vehicle_id</th>\n",
       "    </tr>\n",
       "  </thead>\n",
       "  <tbody>\n",
       "    <tr>\n",
       "      <th>0</th>\n",
       "      <td>569520</td>\n",
       "      <td>65+</td>\n",
       "      <td>female</td>\n",
       "      <td>majority</td>\n",
       "      <td>0-9</td>\n",
       "      <td>high school</td>\n",
       "      <td>upper class</td>\n",
       "      <td>0.629027</td>\n",
       "      <td>1</td>\n",
       "      <td>True</td>\n",
       "      <td>0</td>\n",
       "      <td>1</td>\n",
       "      <td>10238</td>\n",
       "      <td>12000</td>\n",
       "      <td>sedan</td>\n",
       "      <td>0</td>\n",
       "      <td>0</td>\n",
       "      <td>0</td>\n",
       "      <td>0</td>\n",
       "      <td>569520</td>\n",
       "    </tr>\n",
       "    <tr>\n",
       "      <th>1</th>\n",
       "      <td>750365</td>\n",
       "      <td>16-25</td>\n",
       "      <td>male</td>\n",
       "      <td>majority</td>\n",
       "      <td>0-9</td>\n",
       "      <td>none</td>\n",
       "      <td>poverty</td>\n",
       "      <td>0.357757</td>\n",
       "      <td>0</td>\n",
       "      <td>True</td>\n",
       "      <td>0</td>\n",
       "      <td>0</td>\n",
       "      <td>10238</td>\n",
       "      <td>16000</td>\n",
       "      <td>sedan</td>\n",
       "      <td>0</td>\n",
       "      <td>0</td>\n",
       "      <td>0</td>\n",
       "      <td>1</td>\n",
       "      <td>750365</td>\n",
       "    </tr>\n",
       "    <tr>\n",
       "      <th>2</th>\n",
       "      <td>199901</td>\n",
       "      <td>16-25</td>\n",
       "      <td>female</td>\n",
       "      <td>majority</td>\n",
       "      <td>0-9</td>\n",
       "      <td>high school</td>\n",
       "      <td>working class</td>\n",
       "      <td>0.493146</td>\n",
       "      <td>1</td>\n",
       "      <td>True</td>\n",
       "      <td>0</td>\n",
       "      <td>0</td>\n",
       "      <td>10238</td>\n",
       "      <td>11000</td>\n",
       "      <td>sedan</td>\n",
       "      <td>0</td>\n",
       "      <td>0</td>\n",
       "      <td>0</td>\n",
       "      <td>0</td>\n",
       "      <td>199901</td>\n",
       "    </tr>\n",
       "    <tr>\n",
       "      <th>3</th>\n",
       "      <td>478866</td>\n",
       "      <td>16-25</td>\n",
       "      <td>male</td>\n",
       "      <td>majority</td>\n",
       "      <td>0-9</td>\n",
       "      <td>university</td>\n",
       "      <td>working class</td>\n",
       "      <td>0.206013</td>\n",
       "      <td>1</td>\n",
       "      <td>True</td>\n",
       "      <td>0</td>\n",
       "      <td>1</td>\n",
       "      <td>32765</td>\n",
       "      <td>11000</td>\n",
       "      <td>sedan</td>\n",
       "      <td>0</td>\n",
       "      <td>0</td>\n",
       "      <td>0</td>\n",
       "      <td>0</td>\n",
       "      <td>478866</td>\n",
       "    </tr>\n",
       "    <tr>\n",
       "      <th>4</th>\n",
       "      <td>731664</td>\n",
       "      <td>26-39</td>\n",
       "      <td>male</td>\n",
       "      <td>majority</td>\n",
       "      <td>10-19</td>\n",
       "      <td>none</td>\n",
       "      <td>working class</td>\n",
       "      <td>0.388366</td>\n",
       "      <td>1</td>\n",
       "      <td>True</td>\n",
       "      <td>0</td>\n",
       "      <td>0</td>\n",
       "      <td>32765</td>\n",
       "      <td>12000</td>\n",
       "      <td>sedan</td>\n",
       "      <td>2</td>\n",
       "      <td>0</td>\n",
       "      <td>1</td>\n",
       "      <td>1</td>\n",
       "      <td>731664</td>\n",
       "    </tr>\n",
       "  </tbody>\n",
       "</table>\n",
       "</div>"
      ],
      "text/plain": [
       "   person_id age_range  gender majority_minority driving_experience_years  \\\n",
       "0     569520       65+  female          majority                      0-9   \n",
       "1     750365     16-25    male          majority                      0-9   \n",
       "2     199901     16-25  female          majority                      0-9   \n",
       "3     478866     16-25    male          majority                      0-9   \n",
       "4     731664     26-39    male          majority                    10-19   \n",
       "\n",
       "     education         income  credit_score  vehicle_ownership  \\\n",
       "0  high school    upper class      0.629027                  1   \n",
       "1         none        poverty      0.357757                  0   \n",
       "2  high school  working class      0.493146                  1   \n",
       "3   university  working class      0.206013                  1   \n",
       "4         none  working class      0.388366                  1   \n",
       "\n",
       "   vehicle_year_after_2015  married  children  postal_code  annual_mileage  \\\n",
       "0                     True        0         1        10238           12000   \n",
       "1                     True        0         0        10238           16000   \n",
       "2                     True        0         0        10238           11000   \n",
       "3                     True        0         1        32765           11000   \n",
       "4                     True        0         0        32765           12000   \n",
       "\n",
       "  vehicle_type  speeding_violations  duis  past_accidents  outcome  vehicle_id  \n",
       "0        sedan                    0     0               0        0      569520  \n",
       "1        sedan                    0     0               0        1      750365  \n",
       "2        sedan                    0     0               0        0      199901  \n",
       "3        sedan                    0     0               0        0      478866  \n",
       "4        sedan                    2     0               1        1      731664  "
      ]
     },
     "execution_count": 49,
     "metadata": {},
     "output_type": "execute_result"
    }
   ],
   "source": [
    "df_ins.head(5)"
   ]
  },
  {
   "cell_type": "code",
   "execution_count": 50,
   "id": "f9f4a416-8bc1-4c3d-b4b6-def215f31e4f",
   "metadata": {
    "tags": []
   },
   "outputs": [
    {
     "data": {
      "text/plain": [
       "array([0.629027, 0.357757, 0.493146, ..., 0.47094, 0.364185, 0.435225])"
      ]
     },
     "execution_count": 50,
     "metadata": {},
     "output_type": "execute_result"
    }
   ],
   "source": [
    "df_ins['credit_score'].unique()"
   ]
  }
 ],
 "metadata": {
  "kernelspec": {
   "display_name": "Python 3 (ipykernel)",
   "language": "python",
   "name": "python3"
  },
  "language_info": {
   "codemirror_mode": {
    "name": "ipython",
    "version": 3
   },
   "file_extension": ".py",
   "mimetype": "text/x-python",
   "name": "python",
   "nbconvert_exporter": "python",
   "pygments_lexer": "ipython3",
   "version": "3.11.5"
  }
 },
 "nbformat": 4,
 "nbformat_minor": 5
}
